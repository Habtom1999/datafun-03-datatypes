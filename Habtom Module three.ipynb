{
 "cells": [
  {
   "cell_type": "code",
   "execution_count": 2,
   "id": "2927c456-8396-4b6d-8dad-19d69c8cb4ff",
   "metadata": {
    "tags": []
   },
   "outputs": [
    {
     "name": "stdout",
     "output_type": "stream",
     "text": [
      "[1, 2, 3, 4]\n"
     ]
    }
   ],
   "source": [
    "# Append a single value to the list \n",
    "list = [1,2,3]\n",
    "list.append(4)\n",
    "print(list)\n"
   ]
  },
  {
   "cell_type": "code",
   "execution_count": null,
   "id": "63c145e0-651b-4187-9361-7bfbfc8dd9ba",
   "metadata": {},
   "outputs": [],
   "source": [
    "# extend the list with new list "
   ]
  },
  {
   "cell_type": "code",
   "execution_count": 5,
   "id": "d71b6ebc-5020-424d-8109-2a70ea6f7eee",
   "metadata": {
    "tags": []
   },
   "outputs": [
    {
     "name": "stdout",
     "output_type": "stream",
     "text": [
      "[1, 2, 3, 4, 4, 5, 6]\n"
     ]
    }
   ],
   "source": [
    "list.extend((4,5,6))\n",
    "print(list)"
   ]
  },
  {
   "cell_type": "code",
   "execution_count": 6,
   "id": "21c47cf6-9b00-4835-a50b-e4a134efa055",
   "metadata": {
    "tags": []
   },
   "outputs": [
    {
     "name": "stdout",
     "output_type": "stream",
     "text": [
      "[1, 2, 3, 4, 4, 5]\n"
     ]
    }
   ],
   "source": [
    "# remove value from the list \n",
    "list.remove(6)\n",
    "print(list)\n"
   ]
  },
  {
   "cell_type": "code",
   "execution_count": 9,
   "id": "bd876dfe-56a8-409c-a141-f7c0cd159f15",
   "metadata": {
    "tags": []
   },
   "outputs": [
    {
     "name": "stdout",
     "output_type": "stream",
     "text": [
      "2\n"
     ]
    }
   ],
   "source": [
    "# count the occurence of an item in a list \n",
    "count = list.count(4)\n",
    "print(count)"
   ]
  },
  {
   "cell_type": "code",
   "execution_count": 10,
   "id": "15d63f43-94a4-4371-9ba5-49bba42de035",
   "metadata": {
    "tags": []
   },
   "outputs": [
    {
     "name": "stdout",
     "output_type": "stream",
     "text": [
      "[1, 2, 3, 4, 5, 6, 7, 8, 9, 10]\n"
     ]
    }
   ],
   "source": [
    "# sort the list in ascending or descending order \n",
    "my_number =  [ 6,9,3,5,2,4,1,10,7,8]\n",
    "my_number.sort()\n",
    "print(my_number)\n"
   ]
  },
  {
   "cell_type": "code",
   "execution_count": 12,
   "id": "a0c497f8-a451-4b79-9e0d-77d13c522cd9",
   "metadata": {
    "tags": []
   },
   "outputs": [
    {
     "name": "stdout",
     "output_type": "stream",
     "text": [
      "[1, 2, 3, 4, 5, 6, 7, 8, 9, 10]\n"
     ]
    }
   ],
   "source": [
    "ascending_my_number = sorted(my_number)\n",
    "print(my_number)"
   ]
  },
  {
   "cell_type": "markdown",
   "id": "028ca9cb-cf28-4235-9420-08de72ecc187",
   "metadata": {},
   "source": [
    "my_number.sort(reverse=True)\n",
    "my_number"
   ]
  },
  {
   "cell_type": "code",
   "execution_count": 13,
   "id": "fbe24b0b-3877-4cda-8b67-2063432f459d",
   "metadata": {
    "tags": []
   },
   "outputs": [
    {
     "name": "stdout",
     "output_type": "stream",
     "text": [
      "[89, 90, 98, 76, 69, 79, 87, 66]\n"
     ]
    }
   ],
   "source": [
    "# copying a list \n",
    "grade = [89,90,98,76,69,79,87,66]\n",
    "copied_list = grade.copy()\n",
    "print(copied_list)"
   ]
  },
  {
   "cell_type": "code",
   "execution_count": 17,
   "id": "57c696e9-738b-4c7f-b0b0-a954db6d3ad6",
   "metadata": {
    "tags": []
   },
   "outputs": [
    {
     "name": "stdout",
     "output_type": "stream",
     "text": [
      "89\n",
      "[90, 98, 76, 69, 79, 87, 66]\n"
     ]
    }
   ],
   "source": [
    "# poped item from a list\n",
    "grade = [89,90,98,76,69,79,87,66]\n",
    "popped_item = grade.pop(0)\n",
    "print(popped_item)\n",
    "print(grade)"
   ]
  },
  {
   "cell_type": "code",
   "execution_count": 19,
   "id": "0bca19a7-eec1-4deb-a2b0-bf443d6b532c",
   "metadata": {
    "tags": []
   },
   "outputs": [
    {
     "name": "stdout",
     "output_type": "stream",
     "text": [
      "66\n",
      "[90, 98, 76, 69, 79, 87]\n"
     ]
    }
   ],
   "source": [
    "popped_item = grade.pop(6)\n",
    "print(popped_item)\n",
    "print(grade)"
   ]
  },
  {
   "cell_type": "code",
   "execution_count": null,
   "id": "e85402a7-a812-426b-be99-d7a5aa145e21",
   "metadata": {},
   "outputs": [],
   "source": []
  }
 ],
 "metadata": {
  "kernelspec": {
   "display_name": "Python 3 (ipykernel)",
   "language": "python",
   "name": "python3"
  },
  "language_info": {
   "codemirror_mode": {
    "name": "ipython",
    "version": 3
   },
   "file_extension": ".py",
   "mimetype": "text/x-python",
   "name": "python",
   "nbconvert_exporter": "python",
   "pygments_lexer": "ipython3",
   "version": "3.11.3"
  }
 },
 "nbformat": 4,
 "nbformat_minor": 5
}
